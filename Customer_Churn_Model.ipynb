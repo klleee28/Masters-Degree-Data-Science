{
  "nbformat": 4,
  "nbformat_minor": 0,
  "metadata": {
    "colab": {
      "provenance": [],
      "authorship_tag": "ABX9TyOMzuprSLa4Es2KXr+pNrTG",
      "include_colab_link": true
    },
    "kernelspec": {
      "name": "python3",
      "display_name": "Python 3"
    },
    "language_info": {
      "name": "python"
    }
  },
  "cells": [
    {
      "cell_type": "markdown",
      "metadata": {
        "id": "view-in-github",
        "colab_type": "text"
      },
      "source": [
        "<a href=\"https://colab.research.google.com/github/klleee28/Data-Science-in-Retail/blob/main/Customer_Churn_Model.ipynb\" target=\"_parent\"><img src=\"https://colab.research.google.com/assets/colab-badge.svg\" alt=\"Open In Colab\"/></a>"
      ]
    },
    {
      "cell_type": "markdown",
      "source": [
        "# Customer Churn Prediction Model\n",
        "Why do we need to do customer churn model?\n",
        "1. Companies incur a lot of costs when users churn, because it is expensive to replace an existing customer.\n",
        "2. Subscription-based companies are heavily affected by customer churning, because their business model relies on plan renewals. \n",
        "\n",
        "Date Created : 16-Dec-2022\\\n",
        "Date Edited: 16-Dec-2022"
      ],
      "metadata": {
        "id": "FddzGgtcN_v8"
      }
    },
    {
      "cell_type": "markdown",
      "source": [
        "# Goal:\n",
        "1. To predict customer churn using E-commerce dataset.\n",
        "\n",
        "# Data:\n",
        "1.\n",
        "\n",
        "## Data Transformation\n",
        "## Visualization\n",
        "## Modeling\n",
        "## Conclusion\n",
        "## Recommendation"
      ],
      "metadata": {
        "id": "KgFnZZ_bRHpA"
      }
    },
    {
      "cell_type": "code",
      "execution_count": null,
      "metadata": {
        "id": "-oRARMftN_At"
      },
      "outputs": [],
      "source": [
        "# Dependencies"
      ]
    }
  ]
}